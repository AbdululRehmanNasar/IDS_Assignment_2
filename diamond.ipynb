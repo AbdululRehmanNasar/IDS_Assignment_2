{
 "cells": [
  {
   "cell_type": "code",
   "execution_count": null,
   "metadata": {},
   "outputs": [],
   "source": [
    "# 28-March-2024\n",
    "# CSC461 – Assignment2 – IDS – Data Visualization\n",
    "# Abdul ul Rehman Nasar\n",
    "# FA21-BSE-080\n",
    "# ploting the relationship between 'carat' and 'price' of diamonds\n",
    "\n",
    "import pandas as pd\n",
    "import matplotlib.pyplot as plt\n",
    "import seaborn as sns\n",
    "\n",
    "# Reading the dataset\n",
    "data = pd.read_csv('diamonds-diamonds.csv')\n",
    "\n",
    "# Filtering the dataset for diamonds with 'clarity' = 'SI2' and 'color' = 'E'\n",
    "filtered_diamonds = diamonds[(diamonds['clarity'] == 'SI2') & (diamonds['color'] == 'E')]\n",
    "\n",
    "# Set the figure size and font size for better readability\n",
    "plt.figure(figsize=(10, 6))\n",
    "sns.set_context('talk')\n",
    "\n",
    "# Using seaborn to plot, with 'cut' as hue for different colors\n",
    "sns.scatterplot(data=filtered_diamonds, x='carat', y='price', hue='cut', palette='viridis', alpha=0.6)\n",
    "\n",
    "# Setting title and labels with font sizes\n",
    "plt.title('Relationship Between Carat and Price for Diamonds with Clarity SI2 and Color E', fontsize=14)\n",
    "plt.xlabel('Carat', fontsize=12)\n",
    "plt.ylabel('Price (USD)', fontsize=12)\n",
    "\n",
    "# Enhancing legend readability\n",
    "plt.legend(title='Cut', title_fontsize='13', fontsize='10', loc='upper left')\n",
    "\n",
    "# Showing plot\n",
    "plt.show()\n"
   ]
  }
 ],
 "metadata": {
  "language_info": {
   "name": "python"
  }
 },
 "nbformat": 4,
 "nbformat_minor": 2
}
