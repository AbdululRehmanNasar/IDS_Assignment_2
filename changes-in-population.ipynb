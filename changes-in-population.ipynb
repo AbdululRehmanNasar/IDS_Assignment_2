{
 "cells": [
  {
   "cell_type": "code",
   "execution_count": null,
   "metadata": {},
   "outputs": [],
   "source": [
    "# 28-March-2024\n",
    "# CSC461 – Assignment2 – IDS – Data Visualization\n",
    "# Abdul ul Rehman Nasar\n",
    "# FA21-BSE-080\n",
    "# Showing the population of the 10 least populous countries in 2015 using a chart.\n",
    "# Calculating the change in population of Pakistan, India, United States, and United Kingdom from 1970 to 2010 and show the population change (in millions) using a chart.\n",
    "# Calculating the Pakistan population growth between 2010-2020 and then show the data using a chart.\n",
    "\n",
    "import pandas as pd\n",
    "import matplotlib.pyplot as plt\n",
    "\n",
    "# Loading the dataset\n",
    "data = pd.read_csv('world_pop-world_pop.csv')\n",
    "\n",
    "# Showing the population of the 10 least populous countries in 2015 using a chart.\n",
    "least_populous_2015 = data[['Country Name', '2015']].sort_values(by='2015').head(10)\n",
    "plt.figure(figsize=(10, 6))\n",
    "plt.barh(least_populous_2015['Country Name'], least_populous_2015['2015'], color='skyblue')\n",
    "plt.xlabel('Population')\n",
    "plt.ylabel('Country')\n",
    "plt.title('Population of 10 Least Populous Countries in 2015')\n",
    "plt.gca().invert_yaxis()  # Invert y-axis to show the country with the lowest population at the top\n",
    "plt.show()\n",
    "\n",
    "#  Calculating the change in population of Pakistan, India, United States, and United Kingdom from 1970 to 2010\n",
    "countries_of_interest = ['Pakistan', 'India', 'United States', 'United Kingdom']\n",
    "pop_change_1970_2010 = data.loc[data['Country Name'].isin(countries_of_interest), ['Country Name', '1970', '2010']]\n",
    "pop_change_1970_2010['Population Change'] = pop_change_1970_2010['2010'] - pop_change_1970_2010['1970']\n",
    "pop_change_1970_2010_millions = pop_change_1970_2010.copy()\n",
    "pop_change_1970_2010_millions['Population Change'] /= 1e6  # Convert population change to millions\n",
    "plt.figure(figsize=(10, 6))\n",
    "plt.bar(pop_change_1970_2010_millions['Country Name'], pop_change_1970_2010_millions['Population Change'], color='lightgreen')\n",
    "plt.xlabel('Country')\n",
    "plt.ylabel('Population Change (Millions)')\n",
    "plt.title('Population Change from 1970 to 2010')\n",
    "plt.show()\n",
    "\n",
    "#  Calculating the Pakistan population growth between 2010-2020\n",
    "pakistan_population_growth = data.loc[data['Country Name'] == 'Pakistan', ['Country Name', '2010', '2020']]\n",
    "pakistan_population_growth['Population Growth'] = pakistan_population_growth['2020'] - pakistan_population_growth['2010']\n",
    "plt.figure(figsize=(8, 6))\n",
    "plt.plot(pakistan_population_growth.columns[1:], pakistan_population_growth.values[0][1:], marker='o', color='orange')\n",
    "plt.xlabel('Year')\n",
    "plt.ylabel('Population')\n",
    "plt.title('Pakistan Population Growth (2010-2020)')\n",
    "plt.grid(True)\n",
    "plt.show()\n"
   ]
  }
 ],
 "metadata": {
  "language_info": {
   "name": "python"
  }
 },
 "nbformat": 4,
 "nbformat_minor": 2
}
