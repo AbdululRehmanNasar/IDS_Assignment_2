{
 "cells": [
  {
   "cell_type": "code",
   "execution_count": 2,
   "metadata": {},
   "outputs": [
    {
     "ename": "ModuleNotFoundError",
     "evalue": "No module named 'pandas'",
     "output_type": "error",
     "traceback": [
      "\u001b[1;31m---------------------------------------------------------------------------\u001b[0m",
      "\u001b[1;31mModuleNotFoundError\u001b[0m                       Traceback (most recent call last)",
      "Cell \u001b[1;32mIn[2], line 1\u001b[0m\n\u001b[1;32m----> 1\u001b[0m \u001b[38;5;28;01mimport\u001b[39;00m \u001b[38;5;21;01mpandas\u001b[39;00m \u001b[38;5;28;01mas\u001b[39;00m \u001b[38;5;21;01mpd\u001b[39;00m\n\u001b[0;32m      2\u001b[0m \u001b[38;5;28;01mimport\u001b[39;00m \u001b[38;5;21;01mmatplotlib\u001b[39;00m\u001b[38;5;21;01m.\u001b[39;00m\u001b[38;5;21;01mpyplot\u001b[39;00m \u001b[38;5;28;01mas\u001b[39;00m \u001b[38;5;21;01mplt\u001b[39;00m\n\u001b[0;32m      4\u001b[0m \u001b[38;5;66;03m# Assuming you have a dataset named 'world_population.csv' with columns 'Country Name', 'Country Code', and population data from 1960 to 2020\u001b[39;00m\n\u001b[0;32m      5\u001b[0m \n\u001b[0;32m      6\u001b[0m \u001b[38;5;66;03m# Read the dataset\u001b[39;00m\n",
      "\u001b[1;31mModuleNotFoundError\u001b[0m: No module named 'pandas'"
     ]
    }
   ],
   "source": [
    "# 28-March-2024\n",
    "# CSC461 – Assignment2 – IDS – Data Visualization\n",
    "# Abdul ul Rehman Nasar\n",
    "# FA21-BSE-080\n",
    "# comparing the populations of the top 10 highest populated countries from 1960 to 2020\n",
    "\n",
    "import pandas as pd\n",
    "import matplotlib.pyplot as plt\n",
    "\n",
    "\n",
    "# Reading the dataset\n",
    "data = pd.read_csv('world_pop-world_pop.csv')\n",
    "\n",
    "# Filter data for the year 2020 and sort by population\n",
    "data_2020 = data[['Country Name', '2020']].sort_values(by='2020', ascending=False)\n",
    "\n",
    "# Select top 10 highest populated countries in 2020\n",
    "top_10_countries_2020 = data_2020.head(10)\n",
    "\n",
    "# Select data for top 10 countries from the original dataset\n",
    "top_10_data = data[data['Country Name'].isin(top_10_countries_2020['Country Name'])]\n",
    "\n",
    "# Set figure size\n",
    "plt.figure(figsize=(12, 8))\n",
    "\n",
    "# Plot data for top 10 countries\n",
    "for country in top_10_data['Country Name'].unique():\n",
    "    country_data = top_10_data[top_10_data['Country Name'] == country]\n",
    "    plt.plot(country_data.columns[1:], country_data.values[0][1:], label=country)\n",
    "\n",
    "# Add titles and labels\n",
    "plt.title('Population Trends of Top 10 Most Populated Countries (1960-2020)', fontsize=16)\n",
    "plt.xlabel('Year', fontsize=14)\n",
    "plt.ylabel('Population', fontsize=14)\n",
    "\n",
    "# Add legend\n",
    "plt.legend(loc='upper left', fontsize=10, bbox_to_anchor=(1, 1))\n",
    "\n",
    "# Set grid\n",
    "plt.grid(True)\n",
    "\n",
    "# Show plot\n",
    "plt.tight_layout()\n",
    "plt.show()"
   ]
  }
 ],
 "metadata": {
  "kernelspec": {
   "display_name": "Python 3",
   "language": "python",
   "name": "python3"
  },
  "language_info": {
   "codemirror_mode": {
    "name": "ipython",
    "version": 3
   },
   "file_extension": ".py",
   "mimetype": "text/x-python",
   "name": "python",
   "nbconvert_exporter": "python",
   "pygments_lexer": "ipython3",
   "version": "3.12.2"
  }
 },
 "nbformat": 4,
 "nbformat_minor": 2
}
