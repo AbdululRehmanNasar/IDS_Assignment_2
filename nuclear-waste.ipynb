{
 "cells": [
  {
   "cell_type": "code",
   "execution_count": null,
   "metadata": {},
   "outputs": [],
   "source": [
    "# 28-March-2024\n",
    "# CSC461 – Assignment2 – IDS – Data Visualization\n",
    "# Abdul ul Rehman Nasar\n",
    "# FA21-BSE-080\n",
    "# displaying nuclear waste storage sites on a map of the US with markers\n",
    "import folium\n",
    "import pandas as pd\n",
    "\n",
    "data = pd.read_csv('nuclear_waste_sites-nuclear_waste_sites.csv')\n",
    "\n",
    "# Creating a map centered around a central location in the US\n",
    "us_map = folium.Map(location=[39.8283, -98.5795], zoom_start=4, tiles='OpenStreetMap')\n",
    "\n",
    "# Loop through the data and add each site as a marker on the map\n",
    "for index, row in data.iterrows():\n",
    "    folium.Marker(\n",
    "        location=[row['Latitude'], row['Longitude']],\n",
    "        popup=row['Name'],\n",
    "        icon=folium.Icon(color='red', icon='info-sign')\n",
    "    ).add_to(us_map)\n",
    "\n",
    "# Saving the map to an HTML file\n",
    "us_map.save('nuclear_waste_sites_map.html')\n"
   ]
  }
 ],
 "metadata": {
  "language_info": {
   "name": "python"
  }
 },
 "nbformat": 4,
 "nbformat_minor": 2
}
