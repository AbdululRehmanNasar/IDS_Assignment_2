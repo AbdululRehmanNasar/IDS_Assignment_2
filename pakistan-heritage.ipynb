{
 "cells": [
  {
   "cell_type": "code",
   "execution_count": null,
   "metadata": {},
   "outputs": [],
   "source": [
    "# 28-March-2024\n",
    "# CSC461 – Assignment2 – IDS – Data Visualization\n",
    "# Abdul ul Rehman Nasar\n",
    "# FA21-BSE-080\n",
    "# visualizing the heritage sites across Pakistan as markers on a map\n",
    "\n",
    "\n",
    "import folium\n",
    "import pandas as pd\n",
    "\n",
    "data = pd.read_csv('pak-heritage-sites-pak-heritage-sites.csv')\n",
    "\n",
    "# Creating a map centered around Pakistan\n",
    "pakistan_map = folium.Map(location=[30.3753, 69.3451], zoom_start=6, tiles='Stamen Terrain')\n",
    "\n",
    "# Loop through the data and add each site as a marker on the map\n",
    "for index, row in data.iterrows():\n",
    "    folium.Marker(\n",
    "        location=[row['Latitude'], row['Longitude']],\n",
    "        popup=row['Site Name'],\n",
    "        icon=folium.Icon(color='green', icon='info-sign')\n",
    "    ).add_to(pakistan_map)\n",
    "\n",
    "# Saving the map to an HTML file\n",
    "pakistan_map.save('pakistan_heritage_sites_map.html')\n"
   ]
  }
 ],
 "metadata": {
  "language_info": {
   "name": "python"
  }
 },
 "nbformat": 4,
 "nbformat_minor": 2
}
